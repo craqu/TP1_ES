{
 "cells": [
  {
   "cell_type": "markdown",
   "metadata": {},
   "source": [
    "<h1 style=\"text-align:center\">Travail pratique numérique en thermodynamique statistique</h1>\n",
    "<h2 style=\"text-align:center\">PARTIE 1 : Cinétique des gaz parfaits</h2>\n",
    "\n",
    "Veuillez indiquer le nom des membres de votre équipe dans la cellule suivante."
   ]
  },
  {
   "cell_type": "markdown",
   "metadata": {},
   "source": [
    "Antoine Veillette"
   ]
  },
  {
   "cell_type": "markdown",
   "metadata": {
    "nteract": {
     "transient": {
      "deleting": false
     }
    }
   },
   "source": [
    "# Introduction #\n",
    "Ce travail révise d'abord quelques bases générales de mécanique statistique classique avec le script `tds2Danimation_hXX.py` qui simule la théorie cinétique des gaz parfaits en 2D. Cette simulation utilise le concept de sphères dures, mais ici pour le cas des particules d'un gaz afin d'introduire des collisions élastiques entre elles sur leurs trajectoires ballistiques. Notez qu'une sphère est colorée et grossie seulement pour l’effet visuel dans l'animation, la physique de l’algorithme codé considère bien des particules totalement identiques. Les questions sur cette simulation, à répondre directement dans les cellules du carnet _(Notebook)_ ici-même, explorent quelques paramètres de la thermodynamique statistique et introduisent de nouveaux termes utiles à l'étude du mouvement des électrons dans la matière.\n",
    "\n",
    "_N.B._ \n",
    "- _Pour montrer les animations à l'écran, le script `tds2Danimation_hXX.py` importe la librairie `VPython` qu'il faut donc installer. Des liens vers sa documentation et de l'information complémentaire sont donnés dans la médiagraphie à la fin._\n",
    "- _Le code dans ce script est abusivement commenté dans notre contexte pédagogique, mais il serait bien sûr préférable de s’en tenir aux recommandations du <a href=\"https://www.python.org/dev/peps/pep-0008\"> PEP 8 — Style Guide for Python Code</a>._\n",
    "- _Notez finalement que la boucle principale à la fin du script laisse l'utilisateur voir l'animation aussi longtemps que souhaité, assurez-vous donc de savoir comment l'interrompre correctement avant de lancer la simulation ou de la remplacer par une boucle `for`._"
   ]
  },
  {
   "cell_type": "markdown",
   "metadata": {
    "nteract": {
     "transient": {
      "deleting": false
     }
    }
   },
   "source": [
    "# 1<sup>re</sup> partie - Cinétique CLASSIQUE des gaz parfaits #"
   ]
  },
  {
   "cell_type": "markdown",
   "metadata": {
    "nteract": {
     "transient": {
      "deleting": false
     }
    }
   },
   "source": [
    "### Simulation 2D ###"
   ]
  },
  {
   "cell_type": "code",
   "execution_count": 12,
   "metadata": {},
   "outputs": [
    {
     "data": {
      "text/html": [
       "<div id=\"glowscript\" class=\"glowscript\"></div>"
      ],
      "text/plain": [
       "<IPython.core.display.HTML object>"
      ]
     },
     "metadata": {},
     "output_type": "display_data"
    },
    {
     "data": {
      "application/javascript": [
       "if (typeof Jupyter !== \"undefined\") { window.__context = { glowscript_container: $(\"#glowscript\").removeAttr(\"id\")};}else{ element.textContent = ' ';}"
      ],
      "text/plain": [
       "<IPython.core.display.Javascript object>"
      ]
     },
     "metadata": {},
     "output_type": "display_data"
    }
   ],
   "source": [
    "#!pip install matplotlib\n",
    "%run tds2Danimation_h25.py\n",
    "\n",
    "# ou\n",
    "#%run tds3Dsim_h25.py #si disponible : script sans la lente animation Vpython qui est en développement à la session h25!\n",
    "# Remplacez \"XX\" par les deux derniers chiffres de l'année de votre session.\n",
    "# N'hésitez pas à exécuter l'animation 2D ou la simulation 3D à l'extérieur du _Notebook_. Cette cellule vise à préciser que les questions qui suivent se basent sur ces scripts et doivent mener aux mêmes répomses autant en 2D qu'en 3D."
   ]
  },
  {
   "cell_type": "markdown",
   "metadata": {},
   "source": [
    "### Questions statistiques ###"
   ]
  },
  {
   "cell_type": "markdown",
   "metadata": {},
   "source": [
    "**I.** _(3 points)_  &mdash; Utilisez la liste finale des vecteurs de quantité de mouvement $\\vec{p}$ de toutes les sphères pour calculer la moyenne de son carré $\\langle p^2\\rangle=\\langle\\vec{p}\\cdot\\vec{p}\\rangle$ en écrivant le code nécessaire dans la cellule qui suit. "
   ]
  },
  {
   "cell_type": "code",
   "execution_count": 13,
   "metadata": {},
   "outputs": [],
   "source": [
    "from vpython import *\n",
    "import numpy as np\n",
    "from part1_data import p, particle_path\n",
    "\n",
    "psq = np.array([dot(i,i) for i in p])\n",
    "\n",
    "p2_mean = np.mean(psq)"
   ]
  },
  {
   "cell_type": "code",
   "execution_count": null,
   "metadata": {},
   "outputs": [],
   "source": []
  },
  {
   "cell_type": "markdown",
   "metadata": {},
   "source": [
    "\n",
    "**II.** _(2 points)_  &mdash; La température $T$ (macroscopique) est proportionnelle à l'énergie cinétique moyenne $E_{cin}$ de l'ensemble des particules lorsque ce système est rendu à l'équilibre. Celle-ci peut se calculer classiquement selon son <a href=\"https://fr.wikipedia.org/wiki/%C3%89quipartition_de_l%27%C3%A9nergie\">principe d'équipartition</a>, _i.e._ en répartissant l'énergie également sur chaque degré de liberté ici en translation seulement d'où, au total pour $\\text{DIM}=1,2\\text{ ou } 3$ dimensions d'espace réel,\n",
    "\\begin{equation}\n",
    "E_{cin}=\\frac{\\langle p^2 \\rangle}{2m}=\\text{DIM}\\times\\frac{1}{2}k_BT\n",
    "\\end{equation}\n",
    "avec $k_B$, la constante de Boltzmann et $m$, la masse de chaque particule. Quelle est la température du gaz de sphères dures à la fin de la simulation? Est-ce qu'elle a changé significativement par rapport à sa valeur initiale?"
   ]
  },
  {
   "cell_type": "code",
   "execution_count": 14,
   "metadata": {},
   "outputs": [
    {
     "name": "stdout",
     "output_type": "stream",
     "text": [
      "Énergie cinétique moyenne [<p^2>/(2m)] : 4.200000583862169e-21\n",
      "Énergie cinétique moyenne [DIM * 1/2 * k_b * T]] : 4.1999999999999995e-21\n"
     ]
    }
   ],
   "source": [
    "# Déclaration de variables physiques \"Typical values\"\n",
    "DIM = 2 #Nombre de degrés de liberté de la simulation \n",
    "mass = 4E-3/6E23 # helium mass\n",
    "Ratom = 0.01 # wildly exaggerated size of an atom\n",
    "k = 1.4E-23 # Boltzmann constant\n",
    "T = 300 # around room temperature\n",
    "\n",
    "print(f\"Énergie cinétique moyenne [<p^2>/(2m)] : {p2_mean / (2*mass)}\")\n",
    "print(f\"Énergie cinétique moyenne [DIM * 1/2 * k_b * T]] : {DIM / 2 * k * T}\")"
   ]
  },
  {
   "cell_type": "markdown",
   "metadata": {
    "nteract": {
     "transient": {
      "deleting": false
     }
    }
   },
   "source": [
    "**III.** _(10 points)_ &mdash; Modifiez le code de la simulation pour ajouter une fonction qui suit la trajectoire d'UNE SEULE particule, c'est-à-dire qu'elle doit enregistrer, dans une liste, des valeurs de variables pour cette particule et ce, à chacune de ses collisions avec une autre particule (_i.e._ excluez les collisions avec les parois de la boîte). Les deux variables scalaires à lister sont:\n",
    "- la distance que la particule a parcouru entre chaque collision,\n",
    "- le temps écoulé entre ces collisions.\n",
    "\n",
    "Copiez le code de votre fonction dans la cellule qui suit en y commentant clairement les variables pour ces listes qui devront persister après avoir interrompu l'exécution de la simulation. N'oubliez pas d'inclure votre fichier Python (`.py`) modifié avec la simulation complète lors de la remise."
   ]
  },
  {
   "cell_type": "code",
   "execution_count": 15,
   "metadata": {
    "nteract": {
     "transient": {
      "deleting": false
     }
    }
   },
   "outputs": [],
   "source": [
    "# pas une fonction, plutôt une classe.\n",
    "from enum import Enum\n",
    "class COL(Enum):\n",
    "    WALL = 0\n",
    "    ATOM = 1\n",
    "\n",
    "class particule:\n",
    "    \"\"\"\n",
    "    Classe représentant une particule dans un système physique\n",
    "    On souhaite conserver la trajectoire totale de la particule suivie\n",
    "    \"\"\"\n",
    "    def __init__(self):\n",
    "        self.id = 0\n",
    "        self.datalist = []\n",
    "    def update(self, time: float, pos:vector, vel:vector, col:Enum):\n",
    "        new_row = {\n",
    "            'time': time,\n",
    "            'positionVec': (pos.x, pos.y, pos.z),\n",
    "            'velocityVec': (vel.x, vel.y, vel.z),\n",
    "            'coll': col # type de collision, mur ou atome\n",
    "        }\n",
    "        self.datalist.append(new_row)\n",
    "\n",
    "    def _clean(self):\n",
    "        self.df = pd.DataFrame(self.datalist)\n",
    "\n",
    "\n",
    "def distances(atome):\n",
    "    pos = atome.df.positionVec.iloc[...].apply(lambda r: vector(*r))\n",
    "    mask = atome.df.coll.iloc[...].apply(lambda item: item.value).to_numpy()\n",
    "    pos = pos.to_list()\n",
    "    dist = []\n",
    "    for i in range(len(pos)-1):\n",
    "        dist.append(mag(pos[i+1] - pos[i])) # le broadcasting marche pas avec les vecteurs de vpython, c'est completement a chier.\n",
    "    dist = np.array(dist)\n",
    "    interAtomDist = []\n",
    "    for d,m in zip(dist,mask):\n",
    "        if m:\n",
    "            interAtomDist.append(d)\n",
    "        else:\n",
    "            interAtomDist[-1] += d\n",
    "    return np.array(interAtomDist)\n",
    "\n"
   ]
  },
  {
   "cell_type": "markdown",
   "metadata": {
    "nteract": {
     "transient": {
      "deleting": false
     }
    }
   },
   "source": [
    "**IV.** _(2 points)_ &mdash; Calculez le **libre parcours moyen** $l_{moy}$ et le **temps de collision** $\\tau$ qui sont les valeurs moyennes des deux listes compilées au numéro précédent.\n",
    "\n",
    "_(Pour votre information, le libre parcours moyen est de l’ordre de 100 nm dans l'air à température et pression ambiantes, mais_ $l_{moy}$ _peut dépasser 100 000 km dans une enceinte sous vide avec les technologies de pompes modernes!)_\n",
    "\n"
   ]
  },
  {
   "cell_type": "code",
   "execution_count": 25,
   "metadata": {
    "nteract": {
     "transient": {
      "deleting": false
     }
    }
   },
   "outputs": [
    {
     "name": "stdout",
     "output_type": "stream",
     "text": [
      "0.2470677982122062 0.00029090909090908414\n",
      "0         NaN\n",
      "2     0.00085\n",
      "3     0.00021\n",
      "4     0.00017\n",
      "5     0.00016\n",
      "6     0.00000\n",
      "7     0.00012\n",
      "9     0.00095\n",
      "10    0.00021\n",
      "11    0.00011\n",
      "12    0.00045\n",
      "13    0.00003\n",
      "14    0.00002\n",
      "16    0.00081\n",
      "17    0.00045\n",
      "18    0.00011\n",
      "20    0.00027\n",
      "21    0.00029\n",
      "22    0.00020\n",
      "23    0.00024\n",
      "24    0.00032\n",
      "26    0.00044\n",
      "27    0.00009\n",
      "28    0.00029\n",
      "29    0.00015\n",
      "30    0.00005\n",
      "31    0.00029\n",
      "32    0.00012\n",
      "33    0.00028\n",
      "34    0.00020\n",
      "35    0.00015\n",
      "37    0.00104\n",
      "39    0.00040\n",
      "40    0.00013\n",
      "Name: time, dtype: float64\n"
     ]
    }
   ],
   "source": [
    "xs = distances(atm)\n",
    "#ts = atm.df.time[atm.df.coll == COL.ATOM]\n",
    "ts = atm.df.loc[atm.df[\"coll\"].apply(lambda x: x.value == 1), \"time\"].diff() # seulement collision avec un autre atome\n",
    "\n",
    "l_moy = np.mean(xs)\n",
    "tau = np.mean(ts)\n",
    "print(l_moy, tau)\n",
    "print(ts)"
   ]
  },
  {
   "cell_type": "markdown",
   "metadata": {
    "nteract": {
     "transient": {
      "deleting": false
     }
    }
   },
   "source": [
    "**V.** _(2 points)_ Calculez la vitesse $\\vec{v}$ de la particule entre chaque paire de collisions. Quelle est la vitesse moyenne $\\langle\\vec{v}\\rangle$ de la particule?"
   ]
  },
  {
   "cell_type": "code",
   "execution_count": 17,
   "metadata": {
    "nteract": {
     "transient": {
      "deleting": false
     }
    }
   },
   "outputs": [
    {
     "name": "stdout",
     "output_type": "stream",
     "text": [
      "870.0815673448526\n"
     ]
    }
   ],
   "source": [
    "\n",
    "v_norm = atm.df.loc[atm.df[\"coll\"].apply(lambda x: x.value == 1), \"velocityVec\"].apply(lambda r : np.sqrt(np.sum(np.array([i**2 for i in r]))))\n",
    "\n",
    "v_mean = np.mean(v_norm)\n",
    "print(v_mean)"
   ]
  },
  {
   "cell_type": "markdown",
   "metadata": {
    "nteract": {
     "transient": {
      "deleting": false
     }
    }
   },
   "source": [
    "**VI.** _(5 points)_ &mdash; Pour cette même liste de vitesses, comparez les distributions de la norme $||\\vec{v}||$, du carré $v^2$ et d’une de ses composantes $v_x^2$ en étalonnant l’abscisse pour contraster les histogrammes avec une échelle appropriée. Indiquez sur ce graphique la moyenne, le mode, la médiane et la moyenne quadratique des distributions."
   ]
  },
  {
   "cell_type": "code",
   "execution_count": 18,
   "metadata": {
    "nteract": {
     "transient": {
      "deleting": false
     }
    }
   },
   "outputs": [
    {
     "data": {
      "text/plain": [
       "<matplotlib.legend.Legend at 0x1342eec10>"
      ]
     },
     "execution_count": 18,
     "metadata": {},
     "output_type": "execute_result"
    },
    {
     "data": {
      "image/png": "[encoded data removed]",
      "text/plain": [
       "<Figure size 640x480 with 1 Axes>"
      ]
     },
     "metadata": {},
     "output_type": "display_data"
    },
    {
     "data": {
      "image/png": "[encoded data removed]",
      "text/plain": [
       "<Figure size 640x480 with 1 Axes>"
      ]
     },
     "metadata": {},
     "output_type": "display_data"
    },
    {
     "data": {
      "image/png": "[encoded data removed]",
      "text/plain": [
       "<Figure size 640x480 with 1 Axes>"
      ]
     },
     "metadata": {},
     "output_type": "display_data"
    }
   ],
   "source": [
    "#!pip install seaborn\n",
    "\n",
    "v_x = atm.df.loc[atm.df[\"coll\"].apply(lambda x: x.value == 1), \"velocityVec\"].apply(lambda r : r[0])\n",
    "v_xsq = v_x**2\n",
    "\n",
    "import seaborn as sns\n",
    "import matplotlib.pyplot as plt\n",
    "from statistics import mode\n",
    "\n",
    "plt.figure()\n",
    "plt.title(r\"$ || \\vec{v} || $ \")\n",
    "\n",
    "sns.histplot(v_norm)\n",
    "plt.axvline(v_mean, color='red', linestyle='--', label=f'Mean: {v_mean:.2f}')\n",
    "plt.axvline(np.median(v_norm), color='orange', linestyle='--', label=f'Median: {np.median(v_norm):.2f}')\n",
    "plt.axvline(mode(v_norm), color='purple', linestyle='--', label=f'Median: {mode(v_norm):.2f}')\n",
    "plt.legend()\n",
    "\n",
    "v_squared = np.array(v_norm)**2\n",
    "\n",
    "plt.figure()\n",
    "plt.title(r\"$v^2$\")\n",
    "\n",
    "sns.histplot(v_squared)\n",
    "plt.axvline(np.mean(v_squared), color='red', linestyle='--', label=f'Mean: {np.mean(v_squared):.2f}')\n",
    "plt.axvline(np.median(v_squared), color='orange', linestyle='--', label=f'Median: {np.median(v_squared):.2f}')\n",
    "plt.axvline(mode(v_squared), color='purple', linestyle='--', label=f'Median: {mode(v_squared):.2f}')\n",
    "plt.legend()\n",
    "\n",
    "plt.figure()\n",
    "plt.title(r\"$v_x^2$\")\n",
    "sns.histplot(v_xsq)\n",
    "plt.axvline(np.mean(v_xsq), color='red', linestyle='--', label=f'Mean: {np.mean(v_xsq):.2f}')\n",
    "plt.axvline(np.median(v_xsq), color='orange', linestyle='--', label=f'Median: {np.median(v_xsq):.2f}')\n",
    "plt.axvline(mode(v_xsq), color='purple', linestyle='--', label=f'Median: {mode(v_xsq):.2f}')\n",
    "plt.legend()\n",
    "\n"
   ]
  },
  {
   "cell_type": "markdown",
   "metadata": {},
   "source": [
    "**Bonus.** _(4 points)_ &mdash; Montrez que \n",
    "- (a) le théorème central limite est satisfait par une des distributions de vitesse du numéro précédent,\n",
    "- (b) le système simulé est ergodique."
   ]
  },
  {
   "cell_type": "code",
   "execution_count": 19,
   "metadata": {
    "nteract": {
     "transient": {
      "deleting": false
     }
    }
   },
   "outputs": [],
   "source": [
    "\n",
    "#"
   ]
  },
  {
   "cell_type": "markdown",
   "metadata": {
    "nteract": {
     "transient": {
      "deleting": false
     }
    }
   },
   "source": [
    "# Médiagraphie #\n",
    " - La simulation utilise la librairie <a href=\"https://vpython.org\">VPython</a> conçue pour faciliter la visualisation de physique en 3D, avec les instructions d’installation <a href=\"https://vpython.org/presentation2018/install.html\">ici</a> et la documentation <a href=\"https://www.glowscript.org/docs/VPythonDocs/index.html\">ici</a>. Le code adapte en 2D et commente en détail l’exemple <a href=\"https://www.glowscript.org/#/user/GlowScriptDemos/folder/Examples/program/HardSphereGas-VPython\">HardSphereGas-VPython</a> du site interactif <a href=\"https://www.glowscript.org\">GlowScript</a> pour programmer des animations avec VPython directement en ligne."
   ]
  },
  {
   "cell_type": "code",
   "execution_count": null,
   "metadata": {},
   "outputs": [],
   "source": []
  },
  {
   "cell_type": "code",
   "execution_count": null,
   "metadata": {},
   "outputs": [],
   "source": []
  }
 ],
 "metadata": {
  "kernelspec": {
   "display_name": "Python (venv)",
   "language": "python",
   "name": "venv"
  },
  "language_info": {
   "codemirror_mode": {
    "name": "ipython",
    "version": 3
   },
   "file_extension": ".py",
   "mimetype": "text/x-python",
   "name": "python",
   "nbconvert_exporter": "python",
   "pygments_lexer": "ipython3",
   "version": "3.13.2"
  },
  "widgets": {
   "application/vnd.jupyter.widget-state+json": {
    "state": {},
    "version_major": 2,
    "version_minor": 0
   }
  }
 },
 "nbformat": 4,
 "nbformat_minor": 4
}
