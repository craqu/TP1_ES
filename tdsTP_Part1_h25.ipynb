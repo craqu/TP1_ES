{
 "cells": [
  {
   "cell_type": "markdown",
   "metadata": {},
   "source": [
    "<h1 style=\"text-align:center\">Travail pratique numérique en thermodynamique statistique</h1>\n",
    "<h2 style=\"text-align:center\">PARTIE 1 : Cinétique des gaz parfaits</h2>\n",
    "\n",
    "Veuillez indiquer le nom des membres de votre équipe dans la cellule suivante."
   ]
  },
  {
   "cell_type": "markdown",
   "metadata": {},
   "source": [
    "Antoine Veillette"
   ]
  },
  {
   "cell_type": "markdown",
   "metadata": {
    "nteract": {
     "transient": {
      "deleting": false
     }
    }
   },
   "source": [
    "# Introduction #\n",
    "Ce travail révise d'abord quelques bases générales de mécanique statistique classique avec le script `tds2Danimation_hXX.py` qui simule la théorie cinétique des gaz parfaits en 2D. Cette simulation utilise le concept de sphères dures, mais ici pour le cas des particules d'un gaz afin d'introduire des collisions élastiques entre elles sur leurs trajectoires ballistiques. Notez qu'une sphère est colorée et grossie seulement pour l’effet visuel dans l'animation, la physique de l’algorithme codé considère bien des particules totalement identiques. Les questions sur cette simulation, à répondre directement dans les cellules du carnet _(Notebook)_ ici-même, explorent quelques paramètres de la thermodynamique statistique et introduisent de nouveaux termes utiles à l'étude du mouvement des électrons dans la matière.\n",
    "\n",
    "_N.B._ \n",
    "- _Pour montrer les animations à l'écran, le script `tds2Danimation_hXX.py` importe la librairie `VPython` qu'il faut donc installer. Des liens vers sa documentation et de l'information complémentaire sont donnés dans la médiagraphie à la fin._\n",
    "- _Le code dans ce script est abusivement commenté dans notre contexte pédagogique, mais il serait bien sûr préférable de s’en tenir aux recommandations du <a href=\"https://www.python.org/dev/peps/pep-0008\"> PEP 8 — Style Guide for Python Code</a>._\n",
    "- _Notez finalement que la boucle principale à la fin du script laisse l'utilisateur voir l'animation aussi longtemps que souhaité, assurez-vous donc de savoir comment l'interrompre correctement avant de lancer la simulation ou de la remplacer par une boucle `for`._"
   ]
  },
  {
   "cell_type": "markdown",
   "metadata": {
    "nteract": {
     "transient": {
      "deleting": false
     }
    }
   },
   "source": [
    "# 1<sup>re</sup> partie - Cinétique CLASSIQUE des gaz parfaits #"
   ]
  },
  {
   "cell_type": "markdown",
   "metadata": {
    "nteract": {
     "transient": {
      "deleting": false
     }
    }
   },
   "source": [
    "### Simulation 2D ###"
   ]
  },
  {
   "cell_type": "code",
   "execution_count": 1,
   "metadata": {},
   "outputs": [
    {
     "data": {
      "text/html": [
       "<div id=\"glowscript\" class=\"glowscript\"></div>"
      ],
      "text/plain": [
       "<IPython.core.display.HTML object>"
      ]
     },
     "metadata": {},
     "output_type": "display_data"
    },
    {
     "data": {
      "application/javascript": [
       "if (typeof Jupyter !== \"undefined\") { window.__context = { glowscript_container: $(\"#glowscript\").removeAttr(\"id\")};}else{ element.textContent = ' ';}"
      ],
      "text/plain": [
       "<IPython.core.display.Javascript object>"
      ]
     },
     "metadata": {},
     "output_type": "display_data"
    },
    {
     "data": {
      "text/html": [
       "<div id=\"glowscript\" class=\"glowscript\"></div>"
      ],
      "text/plain": [
       "<IPython.core.display.HTML object>"
      ]
     },
     "metadata": {},
     "output_type": "display_data"
    },
    {
     "data": {
      "application/javascript": [
       "if (typeof Jupyter !== \"undefined\") { window.__context = { glowscript_container: $(\"#glowscript\").removeAttr(\"id\")};}else{ element.textContent = ' ';}"
      ],
      "text/plain": [
       "<IPython.core.display.Javascript object>"
      ]
     },
     "metadata": {},
     "output_type": "display_data"
    },
    {
     "ename": "KeyboardInterrupt",
     "evalue": "",
     "output_type": "error",
     "traceback": [
      "\u001b[0;31m---------------------------------------------------------------------------\u001b[0m",
      "\u001b[0;31mKeyboardInterrupt\u001b[0m                         Traceback (most recent call last)",
      "File \u001b[0;32m~/Desktop/GPH/H2025/EtatSolide/ThermoStat/tds2Danimation_h25.py:106\u001b[0m\n\u001b[1;32m    103\u001b[0m last_position \u001b[38;5;241m=\u001b[39m apos[tracked_particle_id]\n\u001b[1;32m    105\u001b[0m \u001b[38;5;28;01mwhile\u001b[39;00m \u001b[38;5;28;01mTrue\u001b[39;00m:\n\u001b[0;32m--> 106\u001b[0m     \u001b[43mrate\u001b[49m\u001b[43m(\u001b[49m\u001b[38;5;241;43m300\u001b[39;49m\u001b[43m)\u001b[49m  \u001b[38;5;66;03m# limite la vitesse de calcul de la simulation pour que l'animation soit visible à l'oeil humain!\u001b[39;00m\n\u001b[1;32m    108\u001b[0m     \u001b[38;5;66;03m#### DÉPLACE TOUTES LES SPHÈRES D'UN PAS SPATIAL deltax\u001b[39;00m\n\u001b[1;32m    109\u001b[0m     vitesse \u001b[38;5;241m=\u001b[39m []   \u001b[38;5;66;03m# vitesse instantanée de chaque sphère\u001b[39;00m\n",
      "File \u001b[0;32m~/.local/share/mise/installs/python/3.13.2/lib/python3.13/site-packages/vpython/rate_control.py:266\u001b[0m, in \u001b[0;36m_RateKeeper2.__call__\u001b[0;34m(self, N)\u001b[0m\n\u001b[1;32m    264\u001b[0m \u001b[38;5;28mself\u001b[39m\u001b[38;5;241m.\u001b[39mrval \u001b[38;5;241m=\u001b[39m N\n\u001b[1;32m    265\u001b[0m \u001b[38;5;28;01mif\u001b[39;00m \u001b[38;5;28mself\u001b[39m\u001b[38;5;241m.\u001b[39mrval \u001b[38;5;241m<\u001b[39m \u001b[38;5;241m1\u001b[39m: \u001b[38;5;28;01mraise\u001b[39;00m \u001b[38;5;167;01mValueError\u001b[39;00m(\u001b[38;5;124m\"\u001b[39m\u001b[38;5;124mrate value must be greater than or equal to 1\u001b[39m\u001b[38;5;124m\"\u001b[39m)\n\u001b[0;32m--> 266\u001b[0m \u001b[38;5;28;43msuper\u001b[39;49m\u001b[43m(\u001b[49m\u001b[43m_RateKeeper2\u001b[49m\u001b[43m,\u001b[49m\u001b[43m \u001b[49m\u001b[38;5;28;43mself\u001b[39;49m\u001b[43m)\u001b[49m\u001b[38;5;241;43m.\u001b[39;49m\u001b[38;5;21;43m__call__\u001b[39;49m\u001b[43m(\u001b[49m\u001b[38;5;28;43mself\u001b[39;49m\u001b[38;5;241;43m.\u001b[39;49m\u001b[43mrval\u001b[49m\u001b[43m)\u001b[49m\n",
      "File \u001b[0;32m~/.local/share/mise/installs/python/3.13.2/lib/python3.13/site-packages/vpython/rate_control.py:220\u001b[0m, in \u001b[0;36mRateKeeper.__call__\u001b[0;34m(self, maxRate)\u001b[0m\n\u001b[1;32m    217\u001b[0m \u001b[38;5;66;03m# Determine how much time is left before the next predicted call to rate:\u001b[39;00m\n\u001b[1;32m    218\u001b[0m dt \u001b[38;5;241m=\u001b[39m \u001b[38;5;28mself\u001b[39m\u001b[38;5;241m.\u001b[39mlastSleep \u001b[38;5;241m+\u001b[39m \u001b[38;5;28mself\u001b[39m\u001b[38;5;241m.\u001b[39mcalls\u001b[38;5;241m*\u001b[39m(\u001b[38;5;28mself\u001b[39m\u001b[38;5;241m.\u001b[39muserTime \u001b[38;5;241m+\u001b[39m \u001b[38;5;28mself\u001b[39m\u001b[38;5;241m.\u001b[39mcallTime \u001b[38;5;241m+\u001b[39m \u001b[38;5;28mself\u001b[39m\u001b[38;5;241m.\u001b[39mdelay) \u001b[38;5;241m+\u001b[39m \\\n\u001b[1;32m    219\u001b[0m      renders\u001b[38;5;241m*\u001b[39m\u001b[38;5;28mself\u001b[39m\u001b[38;5;241m.\u001b[39mrenderTime \u001b[38;5;241m+\u001b[39m sleeps\u001b[38;5;241m*\u001b[39m\u001b[38;5;28mself\u001b[39m\u001b[38;5;241m.\u001b[39minteractionPeriod \u001b[38;5;241m-\u001b[39m _clock()\n\u001b[0;32m--> 220\u001b[0m \u001b[43m_sleep\u001b[49m\u001b[43m(\u001b[49m\u001b[43mdt\u001b[49m\u001b[43m)\u001b[49m\n\u001b[1;32m    221\u001b[0m \u001b[38;5;28mself\u001b[39m\u001b[38;5;241m.\u001b[39mlastSleep \u001b[38;5;241m=\u001b[39m _clock()\n\u001b[1;32m    222\u001b[0m \u001b[38;5;28mself\u001b[39m\u001b[38;5;241m.\u001b[39mcalls \u001b[38;5;241m=\u001b[39m \u001b[38;5;241m0\u001b[39m\n",
      "File \u001b[0;32m~/.local/share/mise/installs/python/3.13.2/lib/python3.13/site-packages/vpython/rate_control.py:68\u001b[0m, in \u001b[0;36m_sleep\u001b[0;34m(dt)\u001b[0m\n\u001b[1;32m     66\u001b[0m     \u001b[38;5;28;01mreturn\u001b[39;00m\n\u001b[1;32m     67\u001b[0m tend \u001b[38;5;241m=\u001b[39m _clock()\u001b[38;5;241m+\u001b[39mdt\n\u001b[0;32m---> 68\u001b[0m \u001b[38;5;28;01mwhile\u001b[39;00m \u001b[43m_clock\u001b[49m\u001b[43m(\u001b[49m\u001b[43m)\u001b[49m \u001b[38;5;241m<\u001b[39m tend:\n\u001b[1;32m     69\u001b[0m     \u001b[38;5;28;01mpass\u001b[39;00m\n",
      "\u001b[0;31mKeyboardInterrupt\u001b[0m: "
     ]
    }
   ],
   "source": [
    "#!pip install matplotlib\n",
    "%run tds2Danimation_h25.py\n",
    "# ou\n",
    "#%run tds3Dsim_h25.py #si disponible : script sans la lente animation Vpython qui est en développement à la session h25!\n",
    "# Remplacez \"XX\" par les deux derniers chiffres de l'année de votre session.\n",
    "# N'hésitez pas à exécuter l'animation 2D ou la simulation 3D à l'extérieur du _Notebook_. Cette cellule vise à préciser que les questions qui suivent se basent sur ces scripts et doivent mener aux mêmes répomses autant en 2D qu'en 3D."
   ]
  },
  {
   "cell_type": "markdown",
   "metadata": {},
   "source": [
    "### Questions statistiques ###"
   ]
  },
  {
   "cell_type": "markdown",
   "metadata": {},
   "source": [
    "**I.** _(3 points)_  &mdash; Utilisez la liste finale des vecteurs de quantité de mouvement $\\vec{p}$ de toutes les sphères pour calculer la moyenne de son carré $\\langle p^2\\rangle=\\langle\\vec{p}\\cdot\\vec{p}\\rangle$ en écrivant le code nécessaire dans la cellule qui suit. "
   ]
  },
  {
   "cell_type": "code",
   "execution_count": 2,
   "metadata": {},
   "outputs": [
    {
     "data": {
      "text/plain": [
       "np.float64(5.599999999999997e-47)"
      ]
     },
     "execution_count": 2,
     "metadata": {},
     "output_type": "execute_result"
    }
   ],
   "source": [
    "psq = np.array([dot(i,i) for i in p])\n",
    "N = len(psq)\n",
    "average_psquared = psq.sum()/N\n",
    "average_psquared"
   ]
  },
  {
   "cell_type": "markdown",
   "metadata": {},
   "source": [
    "\n",
    "**II.** _(2 points)_  &mdash; La température $T$ (macroscopique) est proportionnelle à l'énergie cinétique moyenne $E_{cin}$ de l'ensemble des particules lorsque ce système est rendu à l'équilibre. Celle-ci peut se calculer classiquement selon son <a href=\"https://fr.wikipedia.org/wiki/%C3%89quipartition_de_l%27%C3%A9nergie\">principe d'équipartition</a>, _i.e._ en répartissant l'énergie également sur chaque degré de liberté ici en translation seulement d'où, au total pour $\\text{DIM}=1,2\\text{ ou } 3$ dimensions d'espace réel,\n",
    "\\begin{equation}\n",
    "E_{cin}=\\frac{\\langle p^2 \\rangle}{2m}=\\text{DIM}\\times\\frac{1}{2}k_BT\n",
    "\\end{equation}\n",
    "avec $k_B$, la constante de Boltzmann et $m$, la masse de chaque particule. Quelle est la température du gaz de sphères dures à la fin de la simulation? Est-ce qu'elle a changé significativement par rapport à sa valeur initiale?"
   ]
  },
  {
   "cell_type": "code",
   "execution_count": 3,
   "metadata": {},
   "outputs": [
    {
     "data": {
      "text/plain": [
       "np.float64(299.9999999999999)"
      ]
     },
     "execution_count": 3,
     "metadata": {},
     "output_type": "execute_result"
    }
   ],
   "source": [
    "average_psquared / (2*mass*k)"
   ]
  },
  {
   "cell_type": "code",
   "execution_count": 4,
   "metadata": {},
   "outputs": [],
   "source": [
    "E_cin = average_psquared / (2*mass)\n",
    "T_est = 2* E_cin/(DIM*k)\n",
    "delta_T = abs(T - T_est)"
   ]
  },
  {
   "cell_type": "code",
   "execution_count": 5,
   "metadata": {},
   "outputs": [
    {
     "name": "stdout",
     "output_type": "stream",
     "text": [
      "Variable              Type                          Data/Info\n",
      "-------------------------------------------------------------\n",
      "Atoms                 list                          n=200\n",
      "Camera                type                          <class 'vpython.vpython.Camera'>\n",
      "DIM                   int                           2\n",
      "E_cin                 float64                       4.199999999999998e-21\n",
      "GSversion             list                          n=2\n",
      "GlowWidget            type                          <class 'vpython.vpython.GlowWidget'>\n",
      "L                     int                           1\n",
      "Mouse                 type                          <class 'vpython.vpython.Mouse'>\n",
      "N                     int                           200\n",
      "Natoms                int                           200\n",
      "RackOutline           function                      <function RackOutline at 0x10676c360>\n",
      "Ratom                 float                         0.01\n",
      "T                     int                           300\n",
      "T_est                 float64                       299.9999999999999\n",
      "ToothOutline          function                      <function ToothOutline at 0x10676c2c0>\n",
      "TrackedParticleData   type                          <class '__main__.TrackedParticleData'>\n",
      "Vcom                  vector                        <98.2679, 244.752, 0>\n",
      "acos                  builtin_function_or_method    <built-in function acos>\n",
      "acosh                 builtin_function_or_method    <built-in function acosh>\n",
      "addpos                function                      <function addpos at 0x10676c220>\n",
      "adjust_axis           cython_function_or_method     <cyfunction adjust_axis at 0x1067228e0>\n",
      "adjust_up             cython_function_or_method     <cyfunction adjust_up at 0x106722810>\n",
      "alpha                 float                         0.29805978974116193\n",
      "animation             canvas                        <vpython.vpython.canvas object at 0x107eb1310>\n",
      "apos                  list                          n=200\n",
      "arange                builtin_function_or_method    <built-in function arange>\n",
      "arrow                 type                          <class 'vpython.vpython.arrow'>\n",
      "asin                  builtin_function_or_method    <built-in function asin>\n",
      "asinh                 builtin_function_or_method    <built-in function asinh>\n",
      "atan                  builtin_function_or_method    <built-in function atan>\n",
      "atan2                 builtin_function_or_method    <built-in function atan2>\n",
      "atanh                 builtin_function_or_method    <built-in function atanh>\n",
      "attach_arrow          function                      <function attach_arrow at 0x106744e00>\n",
      "attach_light          function                      <function attach_light at 0x10674d4e0>\n",
      "attach_trail          type                          <class 'vpython.vpython.attach_trail'>\n",
      "average_psquared      float64                       5.599999999999997e-47\n",
      "baseObj               type                          <class 'vpython.vpython.baseObj'>\n",
      "box                   type                          <class 'vpython.vpython.box'>\n",
      "bumpmaps              type                          <class 'vpython.vpython.bumpmaps'>\n",
      "button                type                          <class 'vpython.vpython.button'>\n",
      "cadre                 curve                         <vpython.vpython.curve object at 0x108522cf0>\n",
      "canvas                type                          <class 'vpython.vpython.canvas'>\n",
      "cbrt                  builtin_function_or_method    <built-in function cbrt>\n",
      "ceil                  builtin_function_or_method    <built-in function ceil>\n",
      "checkCollisions       function                      <function checkCollisions at 0x106763a60>\n",
      "checkbox              type                          <class 'vpython.vpython.checkbox'>\n",
      "clock                 builtin_function_or_method    <built-in function perf_counter>\n",
      "color                 type                          <class 'vpython.vpython.color'>\n",
      "comb                  builtin_function_or_method    <built-in function comb>\n",
      "combin                function                      <function combin at 0x10674d580>\n",
      "comp                  cython_function_or_method     <cyfunction comp at 0x1067225a0>\n",
      "compound              type                          <class 'vpython.vpython.compound'>\n",
      "cone                  type                          <class 'vpython.vpython.cone'>\n",
      "controls              type                          <class 'vpython.vpython.controls'>\n",
      "convert               function                      <function convert at 0x10676c400>\n",
      "copysign              builtin_function_or_method    <built-in function copysign>\n",
      "cos                   builtin_function_or_method    <built-in function cos>\n",
      "cosh                  builtin_function_or_method    <built-in function cosh>\n",
      "cross                 cython_function_or_method     <cyfunction cross at 0x106722400>\n",
      "current_position      vector                        <0.417317, -0.179274, 0>\n",
      "current_time          float                         0.001341177891722466\n",
      "curve                 type                          <class 'vpython.vpython.curve'>\n",
      "curveMethods          type                          <class 'vpython.vpython.curveMethods'>\n",
      "cylinder              type                          <class 'vpython.vpython.cylinder'>\n",
      "d                     float                         0.014565917313205987\n",
      "degrees               builtin_function_or_method    <built-in function degrees>\n",
      "delta_T               float64                       1.1368683772161603e-13\n",
      "deltat                float                         2.0095903388595853e-05\n",
      "deltax                list                          n=200\n",
      "diff_angle            cython_function_or_method     <cyfunction diff_angle at 0x106722670>\n",
      "dist                  builtin_function_or_method    <built-in function dist>\n",
      "distance_traveled     float                         0.04241712171802383\n",
      "distant_light         type                          <class 'vpython.vpython.distant_light'>\n",
      "dot                   cython_function_or_method     <cyfunction dot at 0x106722330>\n",
      "dt                    float                         1e-05\n",
      "dx                    float                         0.004552243926017686\n",
      "dy                    float                         0.005873321958742394\n",
      "e                     float                         2.718281828459045\n",
      "ellipsoid             type                          <class 'vpython.vpython.ellipsoid'>\n",
      "erf                   builtin_function_or_method    <built-in function erf>\n",
      "erfc                  builtin_function_or_method    <built-in function erfc>\n",
      "event_return          type                          <class 'vpython.vpython.event_return'>\n",
      "exp                   builtin_function_or_method    <built-in function exp>\n",
      "exp2                  builtin_function_or_method    <built-in function exp2>\n",
      "expm1                 builtin_function_or_method    <built-in function expm1>\n",
      "extrusion             type                          <class 'vpython.vpython.extrusion'>\n",
      "fabs                  builtin_function_or_method    <built-in function fabs>\n",
      "faces                 type                          <class 'vpython.vpython.faces'>\n",
      "factorial             builtin_function_or_method    <built-in function factorial>\n",
      "floor                 builtin_function_or_method    <built-in function floor>\n",
      "fma                   builtin_function_or_method    <built-in function fma>\n",
      "fmod                  builtin_function_or_method    <built-in function fmod>\n",
      "frame                 type                          <class 'vpython.vpython.frame'>\n",
      "frexp                 builtin_function_or_method    <built-in function frexp>\n",
      "fsum                  builtin_function_or_method    <built-in function fsum>\n",
      "gamma                 builtin_function_or_method    <built-in function gamma>\n",
      "gcd                   builtin_function_or_method    <built-in function gcd>\n",
      "gcurve                type                          <class 'vpython.vpython.gcurve'>\n",
      "gdots                 type                          <class 'vpython.vpython.gdots'>\n",
      "ghbars                type                          <class 'vpython.vpython.ghbars'>\n",
      "gobj                  type                          <class 'vpython.vpython.gobj'>\n",
      "graph                 type                          <class 'vpython.vpython.graph'>\n",
      "gray                  vector                        <0.7, 0.7, 0.7>\n",
      "gs_version            module                        <module 'vpython.gs_versi<...>s/vpython/gs_version.py'>\n",
      "gvbars                type                          <class 'vpython.vpython.gvbars'>\n",
      "hat                   cython_function_or_method     <cyfunction hat at 0x106722260>\n",
      "helix                 type                          <class 'vpython.vpython.helix'>\n",
      "hitlist               list                          n=22\n",
      "hypot                 builtin_function_or_method    <built-in function hypot>\n",
      "i                     int                           198\n",
      "ij                    list                          n=2\n",
      "inf                   float                         inf\n",
      "isclose               builtin_function_or_method    <built-in function isclose>\n",
      "isfinite              builtin_function_or_method    <built-in function isfinite>\n",
      "isinf                 builtin_function_or_method    <built-in function isinf>\n",
      "isnan                 builtin_function_or_method    <built-in function isnan>\n",
      "isqrt                 builtin_function_or_method    <built-in function isqrt>\n",
      "j                     int                           157\n",
      "k                     float                         1.4e-23\n",
      "keysdown              function                      <function keysdown at 0x1067637e0>\n",
      "label                 type                          <class 'vpython.vpython.label'>\n",
      "last_collision_time   float                         0.001341177891722466\n",
      "last_position         vector                        <0.417317, -0.179274, 0>\n",
      "lcm                   builtin_function_or_method    <built-in function lcm>\n",
      "ldexp                 builtin_function_or_method    <built-in function ldexp>\n",
      "lgamma                builtin_function_or_method    <built-in function lgamma>\n",
      "loc                   vector                        <-0.315438, 0.274951, 0>\n",
      "local_light           type                          <class 'vpython.vpython.local_light'>\n",
      "log                   builtin_function_or_method    <built-in function log>\n",
      "log10                 builtin_function_or_method    <built-in function log10>\n",
      "log1p                 builtin_function_or_method    <built-in function log1p>\n",
      "log2                  builtin_function_or_method    <built-in function log2>\n",
      "mag                   cython_function_or_method     <cyfunction mag at 0x1066792f0>\n",
      "mag2                  cython_function_or_method     <cyfunction mag2 at 0x1067220c0>\n",
      "mass                  float                         6.666666666666666e-27\n",
      "math                  module                        <module 'math' (built-in)>\n",
      "menu                  type                          <class 'vpython.vpython.menu'>\n",
      "meta_canvas           type                          <class 'vpython.vpython.meta_canvas'>\n",
      "modf                  builtin_function_or_method    <built-in function modf>\n",
      "mtot                  float                         1.3333333333333333e-26\n",
      "nan                   float                         nan\n",
      "nextafter             builtin_function_or_method    <built-in function nextafter>\n",
      "norm                  cython_function_or_method     <cyfunction norm at 0x106722190>\n",
      "np                    module                        <module 'numpy' from '/Us<...>kages/numpy/__init__.py'>\n",
      "np_hitlist            ndarray                       22x2: 44 elems, type `int64`, 352 bytes\n",
      "object_rotate         cython_function_or_method     <cyfunction object_rotate at 0x106721ff0>\n",
      "p                     list                          n=200\n",
      "path_object           type                          <class 'vpython.shapespaths.path_object'>\n",
      "paths                 path_object                   <vpython.shapespaths.path<...>ct object at 0x106731a90>\n",
      "pavg                  float                         7.483314773547882e-24\n",
      "pcomi                 vector                        <9.93914e-25, -2.20216e-24, 0>\n",
      "pcomj                 vector                        <-9.93914e-25, 2.20216e-24, 0>\n",
      "perm                  builtin_function_or_method    <built-in function perm>\n",
      "phi                   float                         4.032757659488515\n",
      "pi                    float                         3.141592653589793\n",
      "plt                   module                        <module 'matplotlib.pyplo<...>es/matplotlib/pyplot.py'>\n",
      "points                type                          <class 'vpython.vpython.points'>\n",
      "posi                  vector                        <0.412199, -0.0558584, 0>\n",
      "posj                  vector                        <0.419689, -0.0412937, 0>\n",
      "pow                   builtin_function_or_method    <built-in function pow>\n",
      "prod                  builtin_function_or_method    <built-in function prod>\n",
      "proj                  cython_function_or_method     <cyfunction proj at 0x1067224d0>\n",
      "psq                   ndarray                       200: 200 elems, type `float64`, 1600 bytes\n",
      "ptot                  vector                        <1.31024e-24, 3.26335e-24, 0>\n",
      "px                    float                         -4.703310528532852e-24\n",
      "py                    float                         -5.820555821585428e-24\n",
      "pyramid               type                          <class 'vpython.vpython.pyramid'>\n",
      "pz                    int                           0\n",
      "quad                  type                          <class 'vpython.vpython.quad'>\n",
      "r                     float                         0.005\n",
      "radians               builtin_function_or_method    <built-in function radians>\n",
      "radio                 type                          <class 'vpython.vpython.radio'>\n",
      "random                builtin_function_or_method    <built-in method random o<...>om object at 0x11e848620>\n",
      "rate                  _RateKeeper2                  <vpython.rate_control._Ra<...>r2 object at 0x10661b8c0>\n",
      "rate_control          module                        <module 'vpython.rate_con<...>vpython/rate_control.py'>\n",
      "remainder             builtin_function_or_method    <built-in function remainder>\n",
      "ring                  type                          <class 'vpython.vpython.ring'>\n",
      "rotate                cython_function_or_method     <cyfunction rotate at 0x106722740>\n",
      "rotatecp              function                      <function rotatecp at 0x10676c040>\n",
      "roundc                function                      <function roundc at 0x106763ec0>\n",
      "rrel                  vector                        <-0.00749001, -0.0145647, 0>\n",
      "scalecp               function                      <function scalecp at 0x10676c0e0>\n",
      "scene                 canvas                        <vpython.vpython.canvas object at 0x10661b380>\n",
      "set_browser           function                      <function set_browser at 0x106763880>\n",
      "shape_object          type                          <class 'vpython.shapespaths.shape_object'>\n",
      "shapes                shape_object                  <vpython.shapespaths.shap<...>ct object at 0x106731940>\n",
      "shapespaths           module                        <module 'vpython.shapespa<...>/vpython/shapespaths.py'>\n",
      "sign                  function                      <function sign at 0x1066c2f20>\n",
      "simple_sphere         type                          <class 'vpython.vpython.simple_sphere'>\n",
      "sin                   builtin_function_or_method    <built-in function sin>\n",
      "sinh                  builtin_function_or_method    <built-in function sinh>\n",
      "sleep                 function                      <function sleep at 0x1067636a0>\n",
      "slider                type                          <class 'vpython.vpython.slider'>\n",
      "sphere                type                          <class 'vpython.vpython.sphere'>\n",
      "sqrt                  builtin_function_or_method    <built-in function sqrt>\n",
      "standardAttributes    type                          <class 'vpython.vpython.standardAttributes'>\n",
      "sumprod               builtin_function_or_method    <built-in function sumprod>\n",
      "tan                   builtin_function_or_method    <built-in function tan>\n",
      "tanh                  builtin_function_or_method    <built-in function tanh>\n",
      "tau                   float                         6.283185307179586\n",
      "text                  type                          <class 'vpython.vpython.text'>\n",
      "textures              type                          <class 'vpython.vpython.textures'>\n",
      "time_elapsed          float                         7.554967495695649e-06\n",
      "tracked_data          TrackedParticleData           Distances: [0.13354906790<...>5, 7.554967495695649e-06]\n",
      "tracked_particle_id   int                           0\n",
      "triangle              type                          <class 'vpython.vpython.triangle'>\n",
      "trunc                 builtin_function_or_method    <built-in function trunc>\n",
      "ulp                   builtin_function_or_method    <built-in function ulp>\n",
      "vec                   type                          <class 'vpython.cyvector.vector'>\n",
      "vector                type                          <class 'vpython.cyvector.vector'>\n",
      "version               list                          n=2\n",
      "vertex                type                          <class 'vpython.vpython.vertex'>\n",
      "vi                    vector                        <315.462, -165.725, 0>\n",
      "vitesse               list                          n=200\n",
      "vj                    vector                        <-118.926, 655.228, 0>\n",
      "vrel                  vector                        <-434.388, 820.952, 0>\n",
      "winput                type                          <class 'vpython.vpython.winput'>\n",
      "wtext                 type                          <class 'vpython.vpython.wtext'>\n",
      "x                     float                         -0.17204311246339155\n",
      "y                     float                         -0.1341893170115872\n",
      "z                     int                           0\n"
     ]
    }
   ],
   "source": [
    "%whos\n",
    "#"
   ]
  },
  {
   "cell_type": "markdown",
   "metadata": {
    "nteract": {
     "transient": {
      "deleting": false
     }
    }
   },
   "source": [
    "**III.** _(10 points)_ &mdash; Modifiez le code de la simulation pour ajouter une fonction qui suit la trajectoire d'UNE SEULE particule, c'est-à-dire qu'elle doit enregistrer, dans une liste, des valeurs de variables pour cette particule et ce, à chacune de ses collisions avec une autre particule (_i.e._ excluez les collisions avec les parois de la boîte). Les deux variables scalaires à lister sont:\n",
    "- la distance que la particule a parcouru entre chaque collision,\n",
    "- le temps écoulé entre ces collisions.\n",
    "\n",
    "Copiez le code de votre fonction dans la cellule qui suit en y commentant clairement les variables pour ces listes qui devront persister après avoir interrompu l'exécution de la simulation. N'oubliez pas d'inclure votre fichier Python (`.py`) modifié avec la simulation complète lors de la remise."
   ]
  },
  {
   "cell_type": "code",
   "execution_count": 12,
   "metadata": {
    "nteract": {
     "transient": {
      "deleting": false
     }
    }
   },
   "outputs": [
    {
     "data": {
      "text/plain": [
       "array([6.85981106e-06, 7.66144948e-06, 1.39843238e-05, 1.22661279e-05,\n",
       "       9.00036341e-06, 1.02432377e-05, 1.30766284e-05, 6.26045047e-06,\n",
       "       1.24393435e-05, 4.57862892e-06, 1.73141090e-05, 6.72049525e-06,\n",
       "       1.58051334e-05, 1.96889849e-05, 1.62001400e-05, 1.01494556e-05,\n",
       "       1.18319407e-05, 1.09834306e-05, 9.81388027e-06, 1.31728812e-05,\n",
       "       1.39790314e-05, 7.80340010e-06, 9.63155923e-06, 1.01008153e-05,\n",
       "       1.06671415e-05, 1.60915455e-05, 9.57571094e-06, 1.17571147e-05,\n",
       "       2.40103511e-05, 3.40103511e-05, 7.23429725e-06, 1.08674476e-05,\n",
       "       4.68568941e-06, 1.34936440e-05, 1.43407434e-05, 5.70555117e-06,\n",
       "       1.36492248e-05, 7.03198311e-06, 1.25813090e-05, 6.89261192e-06,\n",
       "       7.92353014e-06, 1.42053730e-05, 8.46058202e-06, 2.09837559e-05,\n",
       "       3.29985617e-05, 2.09407123e-05, 3.09407123e-05, 7.49461448e-06,\n",
       "       5.74294701e-06, 1.61669653e-05, 9.73167603e-06, 5.91827986e-06,\n",
       "       7.79817872e-06, 1.69537196e-05, 1.65216736e-05, 1.28429706e-05,\n",
       "       1.34450709e-05, 3.70388131e-05, 1.75935740e-05, 1.04933740e-05,\n",
       "       1.92373399e-05, 1.23884419e-05, 1.86650883e-05, 1.19409424e-05,\n",
       "       9.82541327e-06, 1.54166487e-05, 1.24396612e-05, 1.90458214e-05,\n",
       "       2.02592746e-05, 3.04192873e-05, 1.15093028e-05, 9.66120837e-06,\n",
       "       9.78346633e-06, 1.77722776e-05, 1.97653310e-05, 1.99146887e-05,\n",
       "       1.44555734e-05, 2.05972202e-05, 3.05972202e-05, 1.09391411e-05,\n",
       "       1.56308215e-05, 7.58322819e-06, 1.79990509e-05, 1.30795280e-05,\n",
       "       1.32195166e-05, 1.69699856e-05, 1.52581824e-05, 1.92050669e-05,\n",
       "       6.51683413e-06, 8.68345436e-06, 8.40786451e-06, 1.48940973e-05,\n",
       "       1.41883421e-05, 1.89813333e-05, 2.20168474e-05, 7.55496750e-06])"
      ]
     },
     "execution_count": 12,
     "metadata": {},
     "output_type": "execute_result"
    }
   ],
   "source": [
    "dist = np.array(tracked_data.distances)\n",
    "times = np.array(tracked_data.times)\n",
    "times\n"
   ]
  },
  {
   "cell_type": "markdown",
   "metadata": {
    "nteract": {
     "transient": {
      "deleting": false
     }
    }
   },
   "source": [
    "**IV.** _(2 points)_ &mdash; Calculez le **libre parcours moyen** $l_{moy}$ et le **temps de collision** $\\tau$ qui sont les valeurs moyennes des deux listes compilées au numéro précédent.\n",
    "\n",
    "_(Pour votre information, le libre parcours moyen est de l’ordre de 100 nm dans l'air à température et pression ambiantes, mais_ $l_{moy}$ _peut dépasser 100 000 km dans une enceinte sous vide avec les technologies de pompes modernes!)_\n",
    "\n"
   ]
  },
  {
   "cell_type": "code",
   "execution_count": 26,
   "metadata": {
    "nteract": {
     "transient": {
      "deleting": false
     }
    }
   },
   "outputs": [
    {
     "data": {
      "text/plain": [
       "array([6.85981106e-06, 7.66144948e-06, 1.39843238e-05, 1.22661279e-05,\n",
       "       9.00036341e-06, 1.02432377e-05, 1.30766284e-05, 6.26045047e-06,\n",
       "       1.24393435e-05, 4.57862892e-06, 1.73141090e-05, 6.72049525e-06,\n",
       "       1.58051334e-05, 1.96889849e-05, 1.62001400e-05, 1.01494556e-05,\n",
       "       1.18319407e-05, 1.09834306e-05, 9.81388027e-06, 1.31728812e-05,\n",
       "       1.39790314e-05, 7.80340010e-06, 9.63155923e-06, 1.01008153e-05,\n",
       "       1.06671415e-05, 1.60915455e-05, 9.57571094e-06, 1.17571147e-05,\n",
       "       2.40103511e-05, 3.40103511e-05, 7.23429725e-06, 1.08674476e-05,\n",
       "       4.68568941e-06, 1.34936440e-05, 1.43407434e-05, 5.70555117e-06,\n",
       "       1.36492248e-05, 7.03198311e-06, 1.25813090e-05, 6.89261192e-06,\n",
       "       7.92353014e-06, 1.42053730e-05, 8.46058202e-06, 2.09837559e-05,\n",
       "       3.29985617e-05, 2.09407123e-05, 3.09407123e-05, 7.49461448e-06,\n",
       "       5.74294701e-06, 1.61669653e-05, 9.73167603e-06, 5.91827986e-06,\n",
       "       7.79817872e-06, 1.69537196e-05, 1.65216736e-05, 1.28429706e-05,\n",
       "       1.34450709e-05, 3.70388131e-05, 1.75935740e-05, 1.04933740e-05,\n",
       "       1.92373399e-05, 1.23884419e-05, 1.86650883e-05, 1.19409424e-05,\n",
       "       9.82541327e-06, 1.54166487e-05, 1.24396612e-05, 1.90458214e-05,\n",
       "       2.02592746e-05, 3.04192873e-05, 1.15093028e-05, 9.66120837e-06,\n",
       "       9.78346633e-06, 1.77722776e-05, 1.97653310e-05, 1.99146887e-05,\n",
       "       1.44555734e-05, 2.05972202e-05, 3.05972202e-05, 1.09391411e-05,\n",
       "       1.56308215e-05, 7.58322819e-06, 1.79990509e-05, 1.30795280e-05,\n",
       "       1.32195166e-05, 1.69699856e-05, 1.52581824e-05, 1.92050669e-05,\n",
       "       6.51683413e-06, 8.68345436e-06, 8.40786451e-06, 1.48940973e-05,\n",
       "       1.41883421e-05, 1.89813333e-05, 2.20168474e-05, 7.55496750e-06])"
      ]
     },
     "execution_count": 26,
     "metadata": {},
     "output_type": "execute_result"
    }
   ],
   "source": [
    "libre_parcous_moy = dist.sum()/len(dist)\n",
    "temps_col_tau = times.sum()/len(times)\n",
    "times"
   ]
  },
  {
   "cell_type": "markdown",
   "metadata": {
    "nteract": {
     "transient": {
      "deleting": false
     }
    }
   },
   "source": [
    "**V.** _(2 points)_ Calculez la vitesse $\\vec{v}$ de la particule entre chaque paire de collisions. Quelle est la vitesse moyenne $\\langle\\vec{v}\\rangle$ de la particule?"
   ]
  },
  {
   "cell_type": "code",
   "execution_count": 30,
   "metadata": {
    "nteract": {
     "transient": {
      "deleting": false
     }
    }
   },
   "outputs": [],
   "source": [
    "v = dist/times\n",
    "moy_v = v.sum()/v.size"
   ]
  },
  {
   "cell_type": "markdown",
   "metadata": {
    "nteract": {
     "transient": {
      "deleting": false
     }
    }
   },
   "source": [
    "**VI.** _(5 points)_ &mdash; Pour cette même liste de vitesses, comparez les distributions de la norme $||\\vec{v}||$, du carré $v^2$ et d’une de ses composantes $v_x^2$ en étalonnant l’abscisse pour contraster les histogrammes avec une échelle appropriée. Indiquez sur ce graphique la moyenne, le mode, la médiane et la moyenne quadratique des distributions."
   ]
  },
  {
   "cell_type": "code",
   "execution_count": 35,
   "metadata": {
    "nteract": {
     "transient": {
      "deleting": false
     }
    }
   },
   "outputs": [
    {
     "data": {
      "text/plain": [
       "np.float64(2368.3683271667583)"
      ]
     },
     "execution_count": 35,
     "metadata": {},
     "output_type": "execute_result"
    }
   ],
   "source": [
    "norm = np.abs(v)\n",
    "v_sq = v**2\n",
    "v[1]\n",
    "#"
   ]
  },
  {
   "cell_type": "markdown",
   "metadata": {},
   "source": [
    "**Bonus.** _(4 points)_ &mdash; Montrez que \n",
    "- (a) le théorème central limite est satisfait par une des distributions de vitesse du numéro précédent,\n",
    "- (b) le système simulé est ergodique."
   ]
  },
  {
   "cell_type": "code",
   "execution_count": null,
   "metadata": {
    "nteract": {
     "transient": {
      "deleting": false
     }
    }
   },
   "outputs": [],
   "source": [
    "\n",
    "#"
   ]
  },
  {
   "cell_type": "markdown",
   "metadata": {
    "nteract": {
     "transient": {
      "deleting": false
     }
    }
   },
   "source": [
    "# Médiagraphie #\n",
    " - La simulation utilise la librairie <a href=\"https://vpython.org\">VPython</a> conçue pour faciliter la visualisation de physique en 3D, avec les instructions d’installation <a href=\"https://vpython.org/presentation2018/install.html\">ici</a> et la documentation <a href=\"https://www.glowscript.org/docs/VPythonDocs/index.html\">ici</a>. Le code adapte en 2D et commente en détail l’exemple <a href=\"https://www.glowscript.org/#/user/GlowScriptDemos/folder/Examples/program/HardSphereGas-VPython\">HardSphereGas-VPython</a> du site interactif <a href=\"https://www.glowscript.org\">GlowScript</a> pour programmer des animations avec VPython directement en ligne."
   ]
  }
 ],
 "metadata": {
  "kernelspec": {
   "display_name": "Python (venv)",
   "language": "python",
   "name": "venv"
  },
  "language_info": {
   "codemirror_mode": {
    "name": "ipython",
    "version": 3
   },
   "file_extension": ".py",
   "mimetype": "text/x-python",
   "name": "python",
   "nbconvert_exporter": "python",
   "pygments_lexer": "ipython3",
   "version": "3.13.2"
  },
  "widgets": {
   "application/vnd.jupyter.widget-state+json": {
    "state": {},
    "version_major": 2,
    "version_minor": 0
   }
  }
 },
 "nbformat": 4,
 "nbformat_minor": 4
}
